{
 "cells": [
  {
   "cell_type": "code",
   "execution_count": null,
   "metadata": {},
   "outputs": [],
   "source": [
    "# 📦 Imports\n",
    "import os\n",
    "from analyze_trade import process_data\n",
    "import pandas as pd\n",
    "\n",
    "# 📁 Paths\n",
    "product_codes_excel_path = \"...\"  # check the issues page \n",
    "output_excel_path = \"...\"\n",
    "\n",
    "# ✅ Run processing\n",
    "df = process_data(\n",
    "    product_codes_excel_path=product_codes_excel_path,\n",
    "    output_excel_path=output_excel_path,\n",
    "    imputation=\"mean\",\n",
    "    lint=True\n",
    ")\n",
    "\n",
    "# 🔍 Show preview\n",
    "print(\"✅ Process completed. Preview of cleaned data:\")\n",
    "df.head()\n"
   ]
  }
 ],
 "metadata": {
  "language_info": {
   "name": "python"
  }
 },
 "nbformat": 4,
 "nbformat_minor": 2
}
